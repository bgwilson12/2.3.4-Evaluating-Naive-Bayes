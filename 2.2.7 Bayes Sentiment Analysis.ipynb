{
 "cells": [
  {
   "cell_type": "code",
   "execution_count": 1,
   "metadata": {
    "collapsed": true
   },
   "outputs": [],
   "source": [
    "import numpy as np\n",
    "import pandas as pd\n",
    "import matplotlib.pyplot as plt\n",
    "import seaborn as sns\n",
    "import string\n",
    "import operator\n",
    "from nltk.stem import PorterStemmer\n",
    "from nltk.corpus import stopwords\n",
    "\n",
    "%matplotlib inline"
   ]
  },
  {
   "cell_type": "code",
   "execution_count": 2,
   "metadata": {},
   "outputs": [
    {
     "data": {
      "text/html": [
       "<div>\n",
       "<style>\n",
       "    .dataframe thead tr:only-child th {\n",
       "        text-align: right;\n",
       "    }\n",
       "\n",
       "    .dataframe thead th {\n",
       "        text-align: left;\n",
       "    }\n",
       "\n",
       "    .dataframe tbody tr th {\n",
       "        vertical-align: top;\n",
       "    }\n",
       "</style>\n",
       "<table border=\"1\" class=\"dataframe\">\n",
       "  <thead>\n",
       "    <tr style=\"text-align: right;\">\n",
       "      <th></th>\n",
       "      <th>sentence</th>\n",
       "      <th>positive</th>\n",
       "    </tr>\n",
       "  </thead>\n",
       "  <tbody>\n",
       "    <tr>\n",
       "      <th>0</th>\n",
       "      <td>Wow... Loved this place.</td>\n",
       "      <td>1</td>\n",
       "    </tr>\n",
       "    <tr>\n",
       "      <th>1</th>\n",
       "      <td>Crust is not good.</td>\n",
       "      <td>0</td>\n",
       "    </tr>\n",
       "    <tr>\n",
       "      <th>2</th>\n",
       "      <td>Not tasty and the texture was just nasty.</td>\n",
       "      <td>0</td>\n",
       "    </tr>\n",
       "    <tr>\n",
       "      <th>3</th>\n",
       "      <td>Stopped by during the late May bank holiday of...</td>\n",
       "      <td>1</td>\n",
       "    </tr>\n",
       "    <tr>\n",
       "      <th>4</th>\n",
       "      <td>The selection on the menu was great and so wer...</td>\n",
       "      <td>1</td>\n",
       "    </tr>\n",
       "  </tbody>\n",
       "</table>\n",
       "</div>"
      ],
      "text/plain": [
       "                                            sentence  positive\n",
       "0                           Wow... Loved this place.         1\n",
       "1                                 Crust is not good.         0\n",
       "2          Not tasty and the texture was just nasty.         0\n",
       "3  Stopped by during the late May bank holiday of...         1\n",
       "4  The selection on the menu was great and so wer...         1"
      ]
     },
     "execution_count": 2,
     "metadata": {},
     "output_type": "execute_result"
    }
   ],
   "source": [
    "PATH = '..\\\\yelp_labelled.txt'\n",
    "names=['sentence', 'positive']\n",
    "df = pd.read_table(PATH, header=None, names=names)\n",
    "df.head()"
   ]
  },
  {
   "cell_type": "code",
   "execution_count": 3,
   "metadata": {},
   "outputs": [
    {
     "data": {
      "text/html": [
       "<div>\n",
       "<style>\n",
       "    .dataframe thead tr:only-child th {\n",
       "        text-align: right;\n",
       "    }\n",
       "\n",
       "    .dataframe thead th {\n",
       "        text-align: left;\n",
       "    }\n",
       "\n",
       "    .dataframe tbody tr th {\n",
       "        vertical-align: top;\n",
       "    }\n",
       "</style>\n",
       "<table border=\"1\" class=\"dataframe\">\n",
       "  <thead>\n",
       "    <tr style=\"text-align: right;\">\n",
       "      <th></th>\n",
       "      <th>sentence</th>\n",
       "      <th>positive</th>\n",
       "      <th>great</th>\n",
       "      <th>good</th>\n",
       "      <th>back</th>\n",
       "      <th>delicious</th>\n",
       "      <th>tasty</th>\n",
       "      <th>nice</th>\n",
       "      <th>service</th>\n",
       "      <th>loved</th>\n",
       "      <th>enjoyed</th>\n",
       "      <th>friendly</th>\n",
       "      <th>amazing</th>\n",
       "      <th>like</th>\n",
       "      <th>excellent</th>\n",
       "      <th>very</th>\n",
       "    </tr>\n",
       "  </thead>\n",
       "  <tbody>\n",
       "    <tr>\n",
       "      <th>0</th>\n",
       "      <td>Wow... Loved this place.</td>\n",
       "      <td>True</td>\n",
       "      <td>False</td>\n",
       "      <td>False</td>\n",
       "      <td>False</td>\n",
       "      <td>False</td>\n",
       "      <td>False</td>\n",
       "      <td>False</td>\n",
       "      <td>False</td>\n",
       "      <td>True</td>\n",
       "      <td>False</td>\n",
       "      <td>False</td>\n",
       "      <td>False</td>\n",
       "      <td>False</td>\n",
       "      <td>False</td>\n",
       "      <td>False</td>\n",
       "    </tr>\n",
       "    <tr>\n",
       "      <th>1</th>\n",
       "      <td>Crust is not good.</td>\n",
       "      <td>False</td>\n",
       "      <td>False</td>\n",
       "      <td>False</td>\n",
       "      <td>False</td>\n",
       "      <td>False</td>\n",
       "      <td>False</td>\n",
       "      <td>False</td>\n",
       "      <td>False</td>\n",
       "      <td>False</td>\n",
       "      <td>False</td>\n",
       "      <td>False</td>\n",
       "      <td>False</td>\n",
       "      <td>False</td>\n",
       "      <td>False</td>\n",
       "      <td>False</td>\n",
       "    </tr>\n",
       "    <tr>\n",
       "      <th>2</th>\n",
       "      <td>Not tasty and the texture was just nasty.</td>\n",
       "      <td>False</td>\n",
       "      <td>False</td>\n",
       "      <td>False</td>\n",
       "      <td>False</td>\n",
       "      <td>False</td>\n",
       "      <td>True</td>\n",
       "      <td>False</td>\n",
       "      <td>False</td>\n",
       "      <td>False</td>\n",
       "      <td>False</td>\n",
       "      <td>False</td>\n",
       "      <td>False</td>\n",
       "      <td>False</td>\n",
       "      <td>False</td>\n",
       "      <td>False</td>\n",
       "    </tr>\n",
       "    <tr>\n",
       "      <th>3</th>\n",
       "      <td>Stopped by during the late May bank holiday of...</td>\n",
       "      <td>True</td>\n",
       "      <td>False</td>\n",
       "      <td>False</td>\n",
       "      <td>False</td>\n",
       "      <td>False</td>\n",
       "      <td>False</td>\n",
       "      <td>False</td>\n",
       "      <td>False</td>\n",
       "      <td>True</td>\n",
       "      <td>False</td>\n",
       "      <td>False</td>\n",
       "      <td>False</td>\n",
       "      <td>False</td>\n",
       "      <td>False</td>\n",
       "      <td>False</td>\n",
       "    </tr>\n",
       "    <tr>\n",
       "      <th>4</th>\n",
       "      <td>The selection on the menu was great and so wer...</td>\n",
       "      <td>True</td>\n",
       "      <td>True</td>\n",
       "      <td>False</td>\n",
       "      <td>False</td>\n",
       "      <td>False</td>\n",
       "      <td>False</td>\n",
       "      <td>False</td>\n",
       "      <td>False</td>\n",
       "      <td>False</td>\n",
       "      <td>False</td>\n",
       "      <td>False</td>\n",
       "      <td>False</td>\n",
       "      <td>False</td>\n",
       "      <td>False</td>\n",
       "      <td>False</td>\n",
       "    </tr>\n",
       "  </tbody>\n",
       "</table>\n",
       "</div>"
      ],
      "text/plain": [
       "                                            sentence  positive  great   good  \\\n",
       "0                           Wow... Loved this place.      True  False  False   \n",
       "1                                 Crust is not good.     False  False  False   \n",
       "2          Not tasty and the texture was just nasty.     False  False  False   \n",
       "3  Stopped by during the late May bank holiday of...      True  False  False   \n",
       "4  The selection on the menu was great and so wer...      True   True  False   \n",
       "\n",
       "    back  delicious  tasty   nice  service  loved  enjoyed  friendly  amazing  \\\n",
       "0  False      False  False  False    False   True    False     False    False   \n",
       "1  False      False  False  False    False  False    False     False    False   \n",
       "2  False      False   True  False    False  False    False     False    False   \n",
       "3  False      False  False  False    False   True    False     False    False   \n",
       "4  False      False  False  False    False  False    False     False    False   \n",
       "\n",
       "    like  excellent   very  \n",
       "0  False      False  False  \n",
       "1  False      False  False  \n",
       "2  False      False  False  \n",
       "3  False      False  False  \n",
       "4  False      False  False  "
      ]
     },
     "execution_count": 3,
     "metadata": {},
     "output_type": "execute_result"
    }
   ],
   "source": [
    "sns.set_style('white')\n",
    "\n",
    "keywords = ['great', 'good', 'back', 'delicious', 'tasty', 'nice', 'service', 'loved',\n",
    "           'enjoyed', 'friendly', 'amazing', 'like', 'excellent', 'very']\n",
    "for key in keywords:\n",
    "    df[str(key)] = df.sentence.str.contains(\n",
    "    ' ' + str(key) + ' ',\n",
    "    case=False\n",
    "    )\n",
    "df['positive'] = (df['positive'] == 1)\n",
    "df.head()"
   ]
  },
  {
   "cell_type": "code",
   "execution_count": 4,
   "metadata": {},
   "outputs": [
    {
     "data": {
      "image/png": "[encoded data removed]",
      "text/plain": [
       "<matplotlib.figure.Figure at 0x234b73c5080>"
      ]
     },
     "metadata": {},
     "output_type": "display_data"
    }
   ],
   "source": [
    "sns.heatmap(df.corr())\n",
    "plt.show()"
   ]
  },
  {
   "cell_type": "code",
   "execution_count": 5,
   "metadata": {},
   "outputs": [
    {
     "name": "stdout",
     "output_type": "stream",
     "text": [
      "Number of mislabeled points out of a total 1000 points : 379\n"
     ]
    }
   ],
   "source": [
    "data = df[keywords]\n",
    "target = df['positive']\n",
    "\n",
    "from sklearn.naive_bayes import BernoulliNB\n",
    "\n",
    "# Instantiate our model as bnb\n",
    "bnb = BernoulliNB()\n",
    "\n",
    "# Use the Fit method\n",
    "bnb.fit(data, target)\n",
    "\n",
    "# Make predictions, and store the result in y_pred\n",
    "y_pred = bnb.predict(data)\n",
    "\n",
    "# Display the results\n",
    "print(\"Number of mislabeled points out of a total {} points : {}\".format(\n",
    "    data.shape[0],\n",
    "    (target != y_pred).sum()\n",
    "))"
   ]
  },
  {
   "cell_type": "markdown",
   "metadata": {
    "collapsed": true
   },
   "source": [
    "Okay so that is all pretty much just copied and pasted from the curriculum.\n",
    "It barely go 60% correct. Let's see which words appear most often in good reviews"
   ]
  },
  {
   "cell_type": "code",
   "execution_count": 6,
   "metadata": {
    "collapsed": true
   },
   "outputs": [],
   "source": [
    "# filtered_words = [word for word in word_list if word not in stopwords.words('english')]\n",
    "buzzwords = {}\n",
    "ps = PorterStemmer()\n",
    "for each in df[df['positive']]['sentence']:\n",
    "    each = each.replace('.', '').replace('!', '').split(' ')\n",
    "    for word in each:\n",
    "        new_word = ps.stem(word)\n",
    "        if new_word in buzzwords:\n",
    "            buzzwords[new_word] = buzzwords[new_word] + 1\n",
    "        else:\n",
    "            buzzwords[new_word] = 1\n",
    "\n",
    "sorted_list = sorted(buzzwords.items(), key=operator.itemgetter(1))"
   ]
  },
  {
   "cell_type": "code",
   "execution_count": 7,
   "metadata": {
    "scrolled": true
   },
   "outputs": [
    {
     "data": {
      "text/plain": [
       "[('the', 309),\n",
       " ('and', 222),\n",
       " ('wa', 138),\n",
       " ('I', 113),\n",
       " ('a', 107),\n",
       " ('is', 104),\n",
       " ('to', 85),\n",
       " ('thi', 77),\n",
       " ('good', 67),\n",
       " ('great', 65),\n",
       " ('in', 56),\n",
       " ('place', 56),\n",
       " ('food', 52),\n",
       " ('of', 52),\n",
       " ('veri', 46),\n",
       " ('it', 44),\n",
       " ('for', 43),\n",
       " ('with', 41),\n",
       " ('servic', 40),\n",
       " ('had', 37)]"
      ]
     },
     "execution_count": 7,
     "metadata": {},
     "output_type": "execute_result"
    }
   ],
   "source": [
    "# I'm shortening this for viewing purposes in github\n",
    "list(reversed(sorted_list))[0:20]"
   ]
  },
  {
   "cell_type": "markdown",
   "metadata": {},
   "source": [
    "### Evaluating the model\n",
    "I have already talked to Katherine about skimming through this part so I will just give an overview of evaluation metrics and how I would change the model."
   ]
  },
  {
   "cell_type": "code",
   "execution_count": 8,
   "metadata": {},
   "outputs": [
    {
     "name": "stdout",
     "output_type": "stream",
     "text": [
      "Confusion Matrix: \n",
      " [[462  38]\n",
      " [341 159]] \n",
      "\n",
      "Accuracy: \n",
      " 0.621 \n",
      "\n",
      "Specificity: \n",
      " 0.807106598985 \n",
      "\n",
      "Sensitivity: \n",
      " 0.318 \n",
      "\n",
      "F1 Score: \n",
      " 0.456241032999 \n",
      "\n"
     ]
    }
   ],
   "source": [
    "from sklearn import metrics\n",
    "\n",
    "con_mat = metrics.confusion_matrix(target, y_pred)\n",
    "accuracy = (con_mat[0,0] + con_mat[1,1]) / np.sum(con_mat)\n",
    "\n",
    "# I coooouuuuld do a similar calculation using index slicing for specificity and sensitivity.\n",
    "# Or I could have sklearn do it for me :)\n",
    "specificity = metrics.precision_score(target, y_pred)\n",
    "sensitivity = metrics.recall_score(target, y_pred)\n",
    "f1_score = metrics.f1_score(target, y_pred)\n",
    "\n",
    "print('Confusion Matrix: \\n', con_mat, '\\n')\n",
    "print('Accuracy: \\n', accuracy, '\\n')\n",
    "print('Specificity: \\n', specificity, '\\n')\n",
    "print('Sensitivity: \\n', sensitivity, '\\n')\n",
    "print('F1 Score: \\n', f1_score, '\\n')"
   ]
  },
  {
   "cell_type": "markdown",
   "metadata": {
    "collapsed": true
   },
   "source": [
    "The accuracy of our model is better than randomly guessing, but not by much! I would need to spend a lot more time feature engineering to bring this up, and the two methods below should also help the accuracy. \n",
    "\n",
    "As you can see, the sensitivity score is relatively low. This means that we are getting a lot of False Negatives from our model. Specifically, our model is classifying a lot of positive reviews as negative. This is most likely due to a lack of features. Since our list of features is all our model is given to find positive reviews, it makes sense that if a positive review does not have any of the buzzwords in it, then the review will be deemed a bad review. I don't want to spend much more time adding new features to our buzzwords, so I won't.\n",
    "\n",
    "The Specificity number is not too bad, but if I were to try and improve this number, I would look at the reviews that fall into this category. These reviews are negative reviews but they have enough buzzwords in them to get classified as a positive review. If I looked at the sentences for these examples, I might see that all of these examples contain the same buzzword. I would compare the f1 score before and after taking this buzzword out to ensure we don't generate too many more false negatives as a result. If the tradeoff is too high, I might just have to leave it in my model, or perhaps make a very specific bi-gram if I can find a pattern."
   ]
  },
  {
   "cell_type": "code",
   "execution_count": null,
   "metadata": {
    "collapsed": true
   },
   "outputs": [],
   "source": []
  }
 ],
 "metadata": {
  "kernelspec": {
   "display_name": "Python 3",
   "language": "python",
   "name": "python3"
  },
  "language_info": {
   "codemirror_mode": {
    "name": "ipython",
    "version": 3
   },
   "file_extension": ".py",
   "mimetype": "text/x-python",
   "name": "python",
   "nbconvert_exporter": "python",
   "pygments_lexer": "ipython3",
   "version": "3.6.2"
  }
 },
 "nbformat": 4,
 "nbformat_minor": 2
}
