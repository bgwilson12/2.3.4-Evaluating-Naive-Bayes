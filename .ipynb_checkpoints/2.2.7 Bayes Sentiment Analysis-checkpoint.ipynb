{
 "cells": [
  {
   "cell_type": "code",
   "execution_count": null,
   "metadata": {
    "collapsed": true
   },
   "outputs": [],
   "source": [
    "import numpy as np\n",
    "import pandas as pd\n",
    "import matplotlib.pyplot as plt\n",
    "import seaborn as sns\n",
    "import string\n",
    "import operator\n",
    "from nltk.stem import PorterStemmer\n",
    "from nltk.corpus import stopwords\n",
    "\n",
    "%matplotlib inline"
   ]
  },
  {
   "cell_type": "code",
   "execution_count": null,
   "metadata": {},
   "outputs": [],
   "source": [
    "PATH = '..\\\\yelp_labelled.txt'\n",
    "names=['sentence', 'positive']\n",
    "df = pd.read_table(PATH, header=None, names=names)\n",
    "df.head()"
   ]
  },
  {
   "cell_type": "code",
   "execution_count": null,
   "metadata": {},
   "outputs": [],
   "source": [
    "sns.set_style('white')\n",
    "\n",
    "keywords = ['great', 'good', 'back', 'delicious', 'tasty', 'nice', 'service', 'loved',\n",
    "           'enjoyed', 'friendly', 'amazing', 'like', 'excellent']\n",
    "for key in keywords:\n",
    "    df[str(key)] = df.sentence.str.contains(\n",
    "    ' ' + str(key) + ' ',\n",
    "    case=False\n",
    "    )\n",
    "df['positive'] = (df['positive'] == 1)\n",
    "df.head()"
   ]
  },
  {
   "cell_type": "code",
   "execution_count": null,
   "metadata": {},
   "outputs": [],
   "source": [
    "sns.heatmap(df.corr())\n",
    "plt.show()"
   ]
  },
  {
   "cell_type": "code",
   "execution_count": null,
   "metadata": {},
   "outputs": [],
   "source": [
    "data = df[keywords]\n",
    "target = df['positive']\n",
    "\n",
    "from sklearn.naive_bayes import BernoulliNB\n",
    "\n",
    "# Instantiate our model as bnb\n",
    "bnb = BernoulliNB()\n",
    "\n",
    "# Use the Fit method\n",
    "bnb.fit(data, target)\n",
    "\n",
    "# Make predictions, and store the result in y_pred\n",
    "y_pred = bnb.predict(data)\n",
    "\n",
    "# Display the results\n",
    "print(\"Number of mislabeled points out of a total {} points : {}\".format(\n",
    "    data.shape[0],\n",
    "    (target != y_pred).sum()\n",
    "))"
   ]
  },
  {
   "cell_type": "code",
   "execution_count": null,
   "metadata": {
    "collapsed": true
   },
   "outputs": [],
   "source": [
    "# Okay so that is all pretty much just copied and pasted from the curriculum.\n",
    "# It barely go 60% correct. Let's see which words appear most often in good reviews"
   ]
  },
  {
   "cell_type": "code",
   "execution_count": null,
   "metadata": {
    "collapsed": true
   },
   "outputs": [],
   "source": [
    "# filtered_words = [word for word in word_list if word not in stopwords.words('english')]\n",
    "buzzwords = {}\n",
    "ps = PorterStemmer()\n",
    "for each in df[df['positive']]['sentence']:\n",
    "    each = each.replace('.', '').replace('!', '').split(' ')\n",
    "    for word in each:\n",
    "        new_word = ps.stem(word)\n",
    "        if new_word in buzzwords:\n",
    "            buzzwords[new_word] = buzzwords[new_word] + 1\n",
    "        else:\n",
    "            buzzwords[new_word] = 1\n",
    "\n",
    "sorted_list = sorted(buzzwords.items(), key=operator.itemgetter(1))"
   ]
  },
  {
   "cell_type": "code",
   "execution_count": null,
   "metadata": {
    "scrolled": true
   },
   "outputs": [],
   "source": [
    "list(reversed(sorted_list))"
   ]
  },
  {
   "cell_type": "code",
   "execution_count": null,
   "metadata": {},
   "outputs": [],
   "source": [
    "from sklearn.metrics import confusion_matrix\n",
    "confusion_matrix(target, y_pred)"
   ]
  },
  {
   "cell_type": "code",
   "execution_count": null,
   "metadata": {
    "collapsed": true
   },
   "outputs": [],
   "source": []
  }
 ],
 "metadata": {
  "kernelspec": {
   "display_name": "Python 3",
   "language": "python",
   "name": "python3"
  },
  "language_info": {
   "codemirror_mode": {
    "name": "ipython",
    "version": 3
   },
   "file_extension": ".py",
   "mimetype": "text/x-python",
   "name": "python",
   "nbconvert_exporter": "python",
   "pygments_lexer": "ipython3",
   "version": "3.6.2"
  }
 },
 "nbformat": 4,
 "nbformat_minor": 2
}
